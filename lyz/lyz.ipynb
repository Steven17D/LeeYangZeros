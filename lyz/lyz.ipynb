{
 "cells": [
  {
   "cell_type": "code",
   "id": "initial_id",
   "metadata": {
    "ExecuteTime": {
     "end_time": "2024-06-05T19:30:54.863880Z",
     "start_time": "2024-06-05T19:30:54.862214Z"
    }
   },
   "source": [
    "import sympy as smp"
   ],
   "outputs": [],
   "execution_count": 17
  },
  {
   "cell_type": "code",
   "id": "f94ef56c0e84fdde",
   "metadata": {
    "ExecuteTime": {
     "end_time": "2024-06-05T19:32:02.337773Z",
     "start_time": "2024-06-05T19:32:02.330754Z"
    }
   },
   "source": [
    "d, hbar, omega_0 = smp.symbols(r'd, \\hbar, \\omega_0')\n",
    "\n",
    "def Z(N, beta):\n",
    "    if N == 1:\n",
    "        # The correct expression is equation (8) but in order to solve we use approximation (9)\n",
    "        return 1 / ((beta * hbar * omega_0) ** d)\n",
    "    return (1 / N) * sum([Z(1, k * beta) * Z(N - k, beta) for k in range(1, N)])\n",
    "\n",
    "beta = smp.symbols(r'\\beta')\n",
    "N = 5\n",
    "Z(N, beta)"
   ],
   "outputs": [
    {
     "data": {
      "text/plain": [
       "0.2*(0.333333333333333/((\\beta*\\hbar*\\omega_0)**d*(2*\\beta*\\hbar*\\omega_0)**d) + 0.166666666666667/(\\beta*\\hbar*\\omega_0)**(3*d))/(2*\\beta*\\hbar*\\omega_0)**d + 0.2*(0.25*(0.333333333333333/((\\beta*\\hbar*\\omega_0)**d*(2*\\beta*\\hbar*\\omega_0)**d) + 0.166666666666667/(\\beta*\\hbar*\\omega_0)**(3*d))/(\\beta*\\hbar*\\omega_0)**d + 0.25/((\\beta*\\hbar*\\omega_0)**d*(3*\\beta*\\hbar*\\omega_0)**d) + 0.125/((\\beta*\\hbar*\\omega_0)**(2*d)*(2*\\beta*\\hbar*\\omega_0)**d))/(\\beta*\\hbar*\\omega_0)**d + 0.2/((\\beta*\\hbar*\\omega_0)**d*(4*\\beta*\\hbar*\\omega_0)**d) + 0.1/((\\beta*\\hbar*\\omega_0)**(2*d)*(3*\\beta*\\hbar*\\omega_0)**d)"
      ],
      "text/latex": "$\\displaystyle 0.2 \\left(2 \\beta \\bar{\\h} \\omega_{0}\\right)^{- d} \\left(0.333333333333333 \\left(\\beta \\bar{\\h} \\omega_{0}\\right)^{- d} \\left(2 \\beta \\bar{\\h} \\omega_{0}\\right)^{- d} + 0.166666666666667 \\left(\\beta \\bar{\\h} \\omega_{0}\\right)^{- 3 d}\\right) + 0.2 \\left(\\beta \\bar{\\h} \\omega_{0}\\right)^{- d} \\left(0.25 \\left(\\beta \\bar{\\h} \\omega_{0}\\right)^{- d} \\left(0.333333333333333 \\left(\\beta \\bar{\\h} \\omega_{0}\\right)^{- d} \\left(2 \\beta \\bar{\\h} \\omega_{0}\\right)^{- d} + 0.166666666666667 \\left(\\beta \\bar{\\h} \\omega_{0}\\right)^{- 3 d}\\right) + 0.25 \\left(\\beta \\bar{\\h} \\omega_{0}\\right)^{- d} \\left(3 \\beta \\bar{\\h} \\omega_{0}\\right)^{- d} + 0.125 \\left(\\beta \\bar{\\h} \\omega_{0}\\right)^{- 2 d} \\left(2 \\beta \\bar{\\h} \\omega_{0}\\right)^{- d}\\right) + 0.2 \\left(\\beta \\bar{\\h} \\omega_{0}\\right)^{- d} \\left(4 \\beta \\bar{\\h} \\omega_{0}\\right)^{- d} + 0.1 \\left(\\beta \\bar{\\h} \\omega_{0}\\right)^{- 2 d} \\left(3 \\beta \\bar{\\h} \\omega_{0}\\right)^{- d}$"
     },
     "execution_count": 23,
     "metadata": {},
     "output_type": "execute_result"
    }
   ],
   "execution_count": 23
  }
 ],
 "metadata": {
  "kernelspec": {
   "display_name": "Python 3 (ipykernel)",
   "language": "python",
   "name": "python3"
  },
  "language_info": {
   "codemirror_mode": {
    "name": "ipython",
    "version": 3
   },
   "file_extension": ".py",
   "mimetype": "text/x-python",
   "name": "python",
   "nbconvert_exporter": "python",
   "pygments_lexer": "ipython3",
   "version": "3.12.0"
  }
 },
 "nbformat": 4,
 "nbformat_minor": 5
}
